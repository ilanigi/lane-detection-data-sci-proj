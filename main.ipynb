{
 "cells": [
  {
   "cell_type": "markdown",
   "metadata": {},
   "source": [
    "What's the problem?\n",
    "\n",
    "Autonomous Vehicles are not a dream but a living fact. \n",
    "It will bring not only a great advance in global economy and life spend, \n",
    "but also an enormous leap in engineering in general and computer science in particular.\n",
    "Behind it's general idea relay countless problems which waiting to be solved, of already been solved: \n",
    "Object detecting, environment prediction, agent decision making and much more.\n",
    "We have decided to contributing to the solution of the lane detection problem.\n",
    "Altho we know of a lot of industry companies which has common solution to that problem, it is still considered as half-baked solution:\n",
    "most of the known models are failing in some edge cases and aren't dealing well with test datasets.\n",
    "\n",
    "<!-- TODO:what is our specific goal? -->"
   ]
  },
  {
   "cell_type": "markdown",
   "metadata": {},
   "source": [
    "EDA\n",
    "\n",
    "חקר ראשוני של הדאטא.\n",
    "הסתכלו על הנתונים מזוויות שונות (הורדת מימד וציור גרף, קלאסטרינג, ציור התפלגויות שונות). \n",
    "\n",
    "חפשו מאפיינים מעניינים של הנתונים והסבירו אותם. \n",
    "\n",
    "נסו לספר סיפור דרך הגרפים שאתם מציירים."
   ]
  },
  {
   "cell_type": "markdown",
   "metadata": {},
   "source": [
    "    הפעלת אלגוריתמי מדף (sklearn וכו') על הדאטא"
   ]
  },
  {
   "cell_type": "markdown",
   "metadata": {},
   "source": [
    "ניתוח ראשוני של תוצאות האלגוריתמים (כמה הוא מצליח, איפה הוא נכשל, האם יש אובר-פיט, ניסיון להסביר כיצד הוא עובד וכו')."
   ]
  },
  {
   "cell_type": "markdown",
   "metadata": {},
   "source": [
    "    השוואת האלגוריתמים זה לזה - איפה אחד הצליח והשני נכשל, יש לכם רעיון למה?\n"
   ]
  },
  {
   "cell_type": "markdown",
   "metadata": {},
   "source": [
    "    מחשבות לעתיד, מטרות שתרצו להשיג בפרויקט הסופי. "
   ]
  }
 ],
 "metadata": {
  "interpreter": {
   "hash": "957a8df0e8b28c8ae0fffaaef92bb31509140b6392e0b6b4fbd5b1b36df12c2b"
  },
  "kernelspec": {
   "display_name": "Python 3.9.7 ('base')",
   "language": "python",
   "name": "python3"
  },
  "language_info": {
   "name": "python",
   "version": "3.9.7"
  },
  "orig_nbformat": 4
 },
 "nbformat": 4,
 "nbformat_minor": 2
}
